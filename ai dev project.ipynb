{
 "cells": [
  {
   "cell_type": "code",
   "execution_count": 1,
   "metadata": {},
   "outputs": [
    {
     "name": "stderr",
     "output_type": "stream",
     "text": [
      "Using TensorFlow backend.\n",
      "C:\\Users\\REPUBLIC OF GAMERS\\Anaconda3\\lib\\site-packages\\tensorflow\\python\\framework\\dtypes.py:516: FutureWarning: Passing (type, 1) or '1type' as a synonym of type is deprecated; in a future version of numpy, it will be understood as (type, (1,)) / '(1,)type'.\n",
      "  _np_qint8 = np.dtype([(\"qint8\", np.int8, 1)])\n",
      "C:\\Users\\REPUBLIC OF GAMERS\\Anaconda3\\lib\\site-packages\\tensorflow\\python\\framework\\dtypes.py:517: FutureWarning: Passing (type, 1) or '1type' as a synonym of type is deprecated; in a future version of numpy, it will be understood as (type, (1,)) / '(1,)type'.\n",
      "  _np_quint8 = np.dtype([(\"quint8\", np.uint8, 1)])\n",
      "C:\\Users\\REPUBLIC OF GAMERS\\Anaconda3\\lib\\site-packages\\tensorflow\\python\\framework\\dtypes.py:518: FutureWarning: Passing (type, 1) or '1type' as a synonym of type is deprecated; in a future version of numpy, it will be understood as (type, (1,)) / '(1,)type'.\n",
      "  _np_qint16 = np.dtype([(\"qint16\", np.int16, 1)])\n",
      "C:\\Users\\REPUBLIC OF GAMERS\\Anaconda3\\lib\\site-packages\\tensorflow\\python\\framework\\dtypes.py:519: FutureWarning: Passing (type, 1) or '1type' as a synonym of type is deprecated; in a future version of numpy, it will be understood as (type, (1,)) / '(1,)type'.\n",
      "  _np_quint16 = np.dtype([(\"quint16\", np.uint16, 1)])\n",
      "C:\\Users\\REPUBLIC OF GAMERS\\Anaconda3\\lib\\site-packages\\tensorflow\\python\\framework\\dtypes.py:520: FutureWarning: Passing (type, 1) or '1type' as a synonym of type is deprecated; in a future version of numpy, it will be understood as (type, (1,)) / '(1,)type'.\n",
      "  _np_qint32 = np.dtype([(\"qint32\", np.int32, 1)])\n",
      "C:\\Users\\REPUBLIC OF GAMERS\\Anaconda3\\lib\\site-packages\\tensorflow\\python\\framework\\dtypes.py:525: FutureWarning: Passing (type, 1) or '1type' as a synonym of type is deprecated; in a future version of numpy, it will be understood as (type, (1,)) / '(1,)type'.\n",
      "  np_resource = np.dtype([(\"resource\", np.ubyte, 1)])\n"
     ]
    }
   ],
   "source": [
    "import numpy as np\n",
    "from keras import layers\n",
    "from keras.layers import Input,Dense,Activation,ZeroPadding2D,BatchNormalization,Flatten,Conv2D\n",
    "from keras.layers import AveragePooling2D,MaxPooling2D,Dropout,GlobalMaxPooling2D,GlobalAveragePooling2D\n",
    "from keras.utils import np_utils,print_summary\n",
    "import pandas as pd\n",
    "from keras.models import Sequential\n",
    "from keras.callbacks import ModelCheckpoint\n",
    "import keras.backend as k\n",
    "import cv2\n",
    "from keras.models import load_model\n",
    "from collections import deque"
   ]
  },
  {
   "cell_type": "code",
   "execution_count": 2,
   "metadata": {},
   "outputs": [],
   "source": [
    "data=pd.read_csv(r'D:\\machine_learning_and _iot\\data.csv')\n",
    "dataset=np.array(data)\n",
    "np.random.shuffle(dataset)\n",
    "X=dataset\n",
    "Y=dataset\n",
    "X=X[:,0:1024]\n",
    "Y=Y[:,1024]\n",
    "X_train=X[0:70000,:]\n",
    "X_train=X_train/255.\n",
    "X_test=X[70000:72001,:]\n",
    "X_test=X_test/255.\n",
    "Y=Y.reshape(Y.shape[0],1)\n",
    "Y_train=Y[0:70000,:]\n",
    "Y_train=Y_train.T\n",
    "Y_test=Y[70000:72001,:]\n",
    "Y_test=Y_test.T"
   ]
  },
  {
   "cell_type": "code",
   "execution_count": 3,
   "metadata": {
    "scrolled": true
   },
   "outputs": [
    {
     "name": "stdout",
     "output_type": "stream",
     "text": [
      "no of training examples=70000\n",
      "no of testing examples=2000\n",
      "X_train shape:(70000, 1024)\n",
      "Y_train shape(1, 70000)\n",
      "X_test shape(2000, 1024)\n",
      "Y_test shape(1, 2000)\n"
     ]
    }
   ],
   "source": [
    "print(\"no of training examples=\"+str(X_train.shape[0]))\n",
    "print(\"no of testing examples=\"+str(X_test.shape[0]))\n",
    "print(\"X_train shape:\"+str(X_train.shape))\n",
    "print(\"Y_train shape\"+str(Y_train.shape))\n",
    "print(\"X_test shape\"+str(X_test.shape))\n",
    "print(\"Y_test shape\"+str(Y_test.shape))"
   ]
  },
  {
   "cell_type": "code",
   "execution_count": 4,
   "metadata": {},
   "outputs": [],
   "source": [
    "image_x=32\n",
    "image_y=32\n",
    "train_y=np_utils.to_categorical(Y_train)\n",
    "test_y=np_utils.to_categorical(Y_test)\n",
    "train_y=train_y.reshape(train_y.shape[1],train_y.shape[2])\n",
    "test_y=test_y.reshape(test_y.shape[1],test_y.shape[2])\n",
    "X_train=X_train.reshape(X_train.shape[0],image_x,image_y,1)\n",
    "X_test=X_test.reshape(X_test.shape[0],image_x,image_y,1)"
   ]
  },
  {
   "cell_type": "code",
   "execution_count": 5,
   "metadata": {},
   "outputs": [
    {
     "name": "stdout",
     "output_type": "stream",
     "text": [
      "X_train shape(70000, 32, 32, 1)\n",
      "Y_train shape(70000, 37)\n"
     ]
    }
   ],
   "source": [
    "print(\"X_train shape\"+str(X_train.shape))\n",
    "print(\"Y_train shape\"+str(train_y.shape))  # 1 is no of standard if color image it will ne 3"
   ]
  },
  {
   "cell_type": "code",
   "execution_count": 6,
   "metadata": {},
   "outputs": [],
   "source": [
    "# building a model:\n",
    "def keras_model(image_x,image_y):\n",
    "    num_of_classes=37\n",
    "    model=Sequential()\n",
    "    model.add(Conv2D(filters=32,kernel_size=(5,5),input_shape=(image_x,image_y,1),activation='relu'))\n",
    "    model.add(MaxPooling2D(pool_size=(2,2),strides=(2,2),padding='same'))\n",
    "    model.add(Conv2D(64,(5,5),activation='relu'))\n",
    "    model.add(MaxPooling2D(pool_size=(5,5),strides=(5,5),padding='same'))\n",
    "    model.add(Flatten())\n",
    "    model.add(Dense(num_of_classes,activation='softmax'))\n",
    "    model.compile(loss='categorical_crossentropy',optimizer='adam',metrics=['accuracy'])\n",
    "    filepath=\"devanagari_model_refined.h5\"\n",
    "    checkpoint1=ModelCheckpoint(filepath,monitor='val_acc',verbose=1,save_best_only=True,mode='max')\n",
    "    callbacks_list=[checkpoint1]\n",
    "    return model,callbacks_list"
   ]
  },
  {
   "cell_type": "code",
   "execution_count": 7,
   "metadata": {},
   "outputs": [
    {
     "name": "stdout",
     "output_type": "stream",
     "text": [
      "WARNING:tensorflow:From C:\\Users\\REPUBLIC OF GAMERS\\Anaconda3\\lib\\site-packages\\keras\\backend\\tensorflow_backend.py:74: The name tf.get_default_graph is deprecated. Please use tf.compat.v1.get_default_graph instead.\n",
      "\n",
      "WARNING:tensorflow:From C:\\Users\\REPUBLIC OF GAMERS\\Anaconda3\\lib\\site-packages\\keras\\backend\\tensorflow_backend.py:517: The name tf.placeholder is deprecated. Please use tf.compat.v1.placeholder instead.\n",
      "\n",
      "WARNING:tensorflow:From C:\\Users\\REPUBLIC OF GAMERS\\Anaconda3\\lib\\site-packages\\keras\\backend\\tensorflow_backend.py:4138: The name tf.random_uniform is deprecated. Please use tf.random.uniform instead.\n",
      "\n",
      "WARNING:tensorflow:From C:\\Users\\REPUBLIC OF GAMERS\\Anaconda3\\lib\\site-packages\\keras\\backend\\tensorflow_backend.py:3976: The name tf.nn.max_pool is deprecated. Please use tf.nn.max_pool2d instead.\n",
      "\n",
      "WARNING:tensorflow:From C:\\Users\\REPUBLIC OF GAMERS\\Anaconda3\\lib\\site-packages\\keras\\optimizers.py:790: The name tf.train.Optimizer is deprecated. Please use tf.compat.v1.train.Optimizer instead.\n",
      "\n",
      "WARNING:tensorflow:From C:\\Users\\REPUBLIC OF GAMERS\\Anaconda3\\lib\\site-packages\\keras\\backend\\tensorflow_backend.py:3295: The name tf.log is deprecated. Please use tf.math.log instead.\n",
      "\n",
      "WARNING:tensorflow:From C:\\Users\\REPUBLIC OF GAMERS\\Anaconda3\\lib\\site-packages\\tensorflow\\python\\ops\\math_grad.py:1250: add_dispatch_support.<locals>.wrapper (from tensorflow.python.ops.array_ops) is deprecated and will be removed in a future version.\n",
      "Instructions for updating:\n",
      "Use tf.where in 2.0, which has the same broadcast rule as np.where\n",
      "WARNING:tensorflow:From C:\\Users\\REPUBLIC OF GAMERS\\Anaconda3\\lib\\site-packages\\keras\\backend\\tensorflow_backend.py:986: The name tf.assign_add is deprecated. Please use tf.compat.v1.assign_add instead.\n",
      "\n",
      "Train on 70000 samples, validate on 2000 samples\n",
      "Epoch 1/8\n",
      "70000/70000 [==============================] - 46s 653us/step - loss: 0.7251 - acc: 0.7949 - val_loss: 0.2620 - val_acc: 0.9260\n",
      "\n",
      "Epoch 00001: val_acc improved from -inf to 0.92600, saving model to devanagari_model_refined.h5\n",
      "Epoch 2/8\n",
      "70000/70000 [==============================] - 46s 662us/step - loss: 0.2102 - acc: 0.9374 - val_loss: 0.2111 - val_acc: 0.9335\n",
      "\n",
      "Epoch 00002: val_acc improved from 0.92600 to 0.93350, saving model to devanagari_model_refined.h5\n",
      "Epoch 3/8\n",
      "70000/70000 [==============================] - 45s 650us/step - loss: 0.1382 - acc: 0.9590 - val_loss: 0.1397 - val_acc: 0.9560\n",
      "\n",
      "Epoch 00003: val_acc improved from 0.93350 to 0.95600, saving model to devanagari_model_refined.h5\n",
      "Epoch 4/8\n",
      "70000/70000 [==============================] - 49s 705us/step - loss: 0.1018 - acc: 0.9688 - val_loss: 0.1337 - val_acc: 0.9570\n",
      "\n",
      "Epoch 00004: val_acc improved from 0.95600 to 0.95700, saving model to devanagari_model_refined.h5\n",
      "Epoch 5/8\n",
      "70000/70000 [==============================] - 48s 683us/step - loss: 0.0805 - acc: 0.9747 - val_loss: 0.0940 - val_acc: 0.9705\n",
      "\n",
      "Epoch 00005: val_acc improved from 0.95700 to 0.97050, saving model to devanagari_model_refined.h5\n",
      "Epoch 6/8\n",
      "70000/70000 [==============================] - 51s 730us/step - loss: 0.0634 - acc: 0.9806 - val_loss: 0.0886 - val_acc: 0.9735\n",
      "\n",
      "Epoch 00006: val_acc improved from 0.97050 to 0.97350, saving model to devanagari_model_refined.h5\n",
      "Epoch 7/8\n",
      "70000/70000 [==============================] - 60s 851us/step - loss: 0.0510 - acc: 0.9840 - val_loss: 0.0791 - val_acc: 0.9795\n",
      "\n",
      "Epoch 00007: val_acc improved from 0.97350 to 0.97950, saving model to devanagari_model_refined.h5\n",
      "Epoch 8/8\n",
      "70000/70000 [==============================] - 46s 662us/step - loss: 0.0438 - acc: 0.9858 - val_loss: 0.0735 - val_acc: 0.9795\n",
      "\n",
      "Epoch 00008: val_acc did not improve from 0.97950\n",
      "CNN ERROR:2.050000%\n",
      "_________________________________________________________________\n",
      "Layer (type)                 Output Shape              Param #   \n",
      "=================================================================\n",
      "conv2d_1 (Conv2D)            (None, 28, 28, 32)        832       \n",
      "_________________________________________________________________\n",
      "max_pooling2d_1 (MaxPooling2 (None, 14, 14, 32)        0         \n",
      "_________________________________________________________________\n",
      "conv2d_2 (Conv2D)            (None, 10, 10, 64)        51264     \n",
      "_________________________________________________________________\n",
      "max_pooling2d_2 (MaxPooling2 (None, 2, 2, 64)          0         \n",
      "_________________________________________________________________\n",
      "flatten_1 (Flatten)          (None, 256)               0         \n",
      "_________________________________________________________________\n",
      "dense_1 (Dense)              (None, 37)                9509      \n",
      "=================================================================\n",
      "Total params: 61,605\n",
      "Trainable params: 61,605\n",
      "Non-trainable params: 0\n",
      "_________________________________________________________________\n"
     ]
    }
   ],
   "source": [
    "model,callbacks_list=keras_model(image_x,image_y)\n",
    "model.fit(X_train,train_y,validation_data=(X_test,test_y),epochs=8,batch_size=64,callbacks=callbacks_list)\n",
    "scores=model.evaluate(X_test,test_y,verbose=0)\n",
    "print(\"CNN ERROR:%2f%%\"%(100-scores[1]*100))\n",
    "print_summary(model)\n",
    "model.save('devanagari.h5')"
   ]
  },
  {
   "cell_type": "code",
   "execution_count": 8,
   "metadata": {},
   "outputs": [
    {
     "name": "stdout",
     "output_type": "stream",
     "text": [
      "<keras.engine.sequential.Sequential object at 0x000001496FB4A5C8>\n"
     ]
    }
   ],
   "source": [
    "# application class\n",
    "model1=load_model('devanagari.h5')\n",
    "print(model1)"
   ]
  },
  {
   "cell_type": "code",
   "execution_count": 9,
   "metadata": {},
   "outputs": [],
   "source": [
    "letter_count={0:'CHECK',1:'01_ka',2:'02_kha',3:'03_ga',4:'gha',5:'05_kna',6:'06_cha',7:'07_chha',8:'08_ja',9:'09_jha',\n",
    "             10: '10_yna',11:'11_taa',12:'12_thaa',13:'13_daa',14:'dhaa',15:'15_ana',16:'16_tabla',17:'17_thaa',18:'18_dha',\n",
    "             19: '19_dha',20:'20_na',21:'21_pa',22:'22_pha',23:'23_ba',24:'24_bha',25:'25_ma',26:'26_yaw',27:'27_ra',28:'28_la',\n",
    "             29: '29_waw',30:'30_motsaw',31:'31_petchiryakha',32:'32_patalosaw',33:'33_ha',34:'34_chhya',35:'35_tra',36:'36_gya',\n",
    "             37:'CHECK'}"
   ]
  },
  {
   "cell_type": "code",
   "execution_count": 10,
   "metadata": {},
   "outputs": [],
   "source": [
    "def keras_predict(model,image):\n",
    "    processed=keras_process_image(image)\n",
    "    print(\"processed\"+str(processed.shape))\n",
    "    pred_probab=model.predict(processed)[0]\n",
    "    pred_class=list(pred_probab).index(max(pred_probab))\n",
    "    return max(pred_probab),pred_class\n",
    "\n",
    "def keras_process_image(img):\n",
    "    image_x=32\n",
    "    image_y=32\n",
    "    img=cv2.resize(img,(image_x,image_y))\n",
    "    img=np.array(img,dtype=np.float32)\n",
    "    img=np.reshape(img,(-1,image_x,image_y))\n",
    "    return img\n",
    "    "
   ]
  },
  {
   "cell_type": "code",
   "execution_count": 11,
   "metadata": {},
   "outputs": [
    {
     "ename": "SystemError",
     "evalue": "new style getargs format but argument is not a tuple",
     "output_type": "error",
     "traceback": [
      "\u001b[1;31m---------------------------------------------------------------------------\u001b[0m",
      "\u001b[1;31mSystemError\u001b[0m                               Traceback (most recent call last)",
      "\u001b[1;32m<ipython-input-11-d10f839bcc12>\u001b[0m in \u001b[0;36m<module>\u001b[1;34m\u001b[0m\n\u001b[0;32m     12\u001b[0m     \u001b[0mmask\u001b[0m\u001b[1;33m=\u001b[0m\u001b[0mcv2\u001b[0m\u001b[1;33m.\u001b[0m\u001b[0minRange\u001b[0m\u001b[1;33m(\u001b[0m\u001b[0mimgHSV\u001b[0m\u001b[1;33m,\u001b[0m\u001b[0mLower_blue\u001b[0m\u001b[1;33m,\u001b[0m\u001b[0mUpper_blue\u001b[0m\u001b[1;33m)\u001b[0m\u001b[1;33m\u001b[0m\u001b[1;33m\u001b[0m\u001b[0m\n\u001b[0;32m     13\u001b[0m     \u001b[0mblur\u001b[0m\u001b[1;33m=\u001b[0m\u001b[0mcv2\u001b[0m\u001b[1;33m.\u001b[0m\u001b[0mmedianBlur\u001b[0m\u001b[1;33m(\u001b[0m\u001b[0mmask\u001b[0m\u001b[1;33m,\u001b[0m\u001b[1;36m15\u001b[0m\u001b[1;33m)\u001b[0m\u001b[1;33m\u001b[0m\u001b[1;33m\u001b[0m\u001b[0m\n\u001b[1;32m---> 14\u001b[1;33m     \u001b[0mblur\u001b[0m\u001b[1;33m=\u001b[0m\u001b[0mcv2\u001b[0m\u001b[1;33m.\u001b[0m\u001b[0mGaussianBlur\u001b[0m\u001b[1;33m(\u001b[0m\u001b[0mblur\u001b[0m\u001b[1;33m,\u001b[0m\u001b[1;36m0\u001b[0m\u001b[1;33m,\u001b[0m\u001b[1;36m255\u001b[0m\u001b[1;33m,\u001b[0m\u001b[0mcv2\u001b[0m\u001b[1;33m.\u001b[0m\u001b[0mTHRESH_BINARY\u001b[0m\u001b[1;33m+\u001b[0m\u001b[0mcv2\u001b[0m\u001b[1;33m.\u001b[0m\u001b[0mTHRESH_OTSU\u001b[0m\u001b[1;33m)\u001b[0m\u001b[1;33m[\u001b[0m\u001b[1;36m1\u001b[0m\u001b[1;33m]\u001b[0m\u001b[1;33m\u001b[0m\u001b[1;33m\u001b[0m\u001b[0m\n\u001b[0m\u001b[0;32m     15\u001b[0m     \u001b[0mcnts\u001b[0m\u001b[1;33m=\u001b[0m\u001b[0mcv2\u001b[0m\u001b[1;33m.\u001b[0m\u001b[0mfindContours\u001b[0m\u001b[1;33m(\u001b[0m\u001b[0mthresh\u001b[0m\u001b[1;33m.\u001b[0m\u001b[0mcopy\u001b[0m\u001b[1;33m(\u001b[0m\u001b[1;33m)\u001b[0m\u001b[1;33m,\u001b[0m\u001b[0mcv2\u001b[0m\u001b[1;33m.\u001b[0m\u001b[0mRETR_TREE\u001b[0m\u001b[1;33m,\u001b[0m\u001b[0mcv2\u001b[0m\u001b[1;33m.\u001b[0m\u001b[0mCHAIN_APPROX_NONE\u001b[0m\u001b[1;33m)\u001b[0m\u001b[1;33m[\u001b[0m\u001b[1;36m1\u001b[0m\u001b[1;33m]\u001b[0m\u001b[1;33m\u001b[0m\u001b[1;33m\u001b[0m\u001b[0m\n\u001b[0;32m     16\u001b[0m     \u001b[0mcenter\u001b[0m\u001b[1;33m=\u001b[0m\u001b[1;32mNone\u001b[0m\u001b[1;33m\u001b[0m\u001b[1;33m\u001b[0m\u001b[0m\n",
      "\u001b[1;31mSystemError\u001b[0m: new style getargs format but argument is not a tuple"
     ]
    }
   ],
   "source": [
    "cap=cv2.VideoCapture(0)\n",
    "Lower_blue=np.array([110,50,50])\n",
    "Upper_blue=np.array([130,225,225])\n",
    "pred_class=0\n",
    "pts=deque(maxlen=512)\n",
    "blackboard=np.zeros((480,640,3),dtype=np.uint8)\n",
    "digits=np.zeros((200,200,3),dtype=np.uint8)\n",
    "while(cap.isOpened()):\n",
    "    ret,img=cap.read()\n",
    "    img=cv2.flip(img,1)\n",
    "    imgHSV=cv2.cvtColor(img,cv2.COLOR_BGR2HSV)\n",
    "    mask=cv2.inRange(imgHSV,Lower_blue,Upper_blue)\n",
    "    blur=cv2.medianBlur(mask,15)\n",
    "    blur=cv2.GaussianBlur(blur,0,255,cv2.THRESH_BINARY+cv2.THRESH_OTSU)[1]\n",
    "    cnts=cv2.findContours(thresh.copy(),cv2.RETR_TREE,cv2.CHAIN_APPROX_NONE)[1]\n",
    "    center=None\n",
    "    if len(cnts)>=1:\n",
    "        contour=max(cnts,key=cv2.contourArea)\n",
    "        if cv2.contourArea(contour)>250:\n",
    "            ((x,y),radius)=cv2.minEnclosingCircle(contour)\n",
    "            cv2.circle(img,int(x),int(y),int(radius),(0,255,255),2)\n",
    "            cv2.circle(img, center , 5 , (0 , 0 , 255) , -1)\n",
    "            M = cv2.moments(contour)\n",
    "            center=(int(M['m10']/M['m00']),int(M['m01']/M['m00']))\n",
    "            pts.appendleft(center)\n",
    "            for i in range(1,len(pts)):\n",
    "                    if pts[i-1] is None or pts[i] is None:\n",
    "                           \n",
    "                        continue\n",
    "                    cv2.line(blackboard,pts[i-1],pts[i],(255,255,255),10)\n",
    "                    cv2.line(img,pts[i-1],pts[i],(0,0,255),5)\n",
    "        elif len(cnts)==0:\n",
    "            if len(pts)!=[]:\n",
    "                blackboard_gray=cv2.cvtColor(blackboard,cv2.COLOR_BGR2GRAY)\n",
    "                blur1=cv2.medianBlur(blackboard_gray,15)\n",
    "                blur2=cv2.GaussianBlur(blur1,(5,5),0)\n",
    "                thresh1=cv2.threshold(blur1,0,255,cv2.THRESH_BINARY+cv2.THRESH_OTSU)[1]\n",
    "                blackboard_cnts=svc.findContours(thresh1.copy(),cv2.RETR_TREE,cv2.CHAIN_APPROX_NONE)[1]\n",
    "                if len(blackboard_cnts)>=1:\n",
    "                           cnt=max(blackboard_cnts,key=cv2.contourArea)\n",
    "                           print(cv2.contourArea(cnt))\n",
    "                           if cv2.contourArea(cnt)>2000:\n",
    "                             \n",
    "                                  x,y,w,h=cv2.boundingRect(cnt)\n",
    "                                  digits=blackboard_gray[y:y+h,x:x+w]\n",
    "                                  pred_probab,pred_class=keras.predict(model1,digit)\n",
    "                                  print(pred_class,pred_probab)\n",
    "                pts=deque(maxlen=512)\n",
    "                blackboard=np.zeros((480,640,3),dtype=np.uint8)\n",
    "            cv2.putText(img,\"Conv Network:\"+str(letter_count[pred_class]),(10,470),cv2.FONT_HERSHEY_SIMPLEX,0.7,(0,0,255),2)\n",
    "            cv2.imshow(\"Frame\",img)\n",
    "            k=cv2.waitkey(10)\n",
    "            if k==27:\n",
    "                break"
   ]
  },
  {
   "cell_type": "code",
   "execution_count": null,
   "metadata": {},
   "outputs": [],
   "source": []
  }
 ],
 "metadata": {
  "kernelspec": {
   "display_name": "Python 3",
   "language": "python",
   "name": "python3"
  },
  "language_info": {
   "codemirror_mode": {
    "name": "ipython",
    "version": 3
   },
   "file_extension": ".py",
   "mimetype": "text/x-python",
   "name": "python",
   "nbconvert_exporter": "python",
   "pygments_lexer": "ipython3",
   "version": "3.7.4"
  }
 },
 "nbformat": 4,
 "nbformat_minor": 2
}
